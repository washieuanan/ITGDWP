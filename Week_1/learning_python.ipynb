{
 "cells": [
  {
   "cell_type": "markdown",
   "source": [
    "## We are going to begin by first learning the foundations of Python. "
   ],
   "metadata": {}
  },
  {
   "cell_type": "code",
   "execution_count": 1,
   "source": [
    "## How To Print\n",
    "print(\"Hello World!\")"
   ],
   "outputs": [
    {
     "output_type": "stream",
     "name": "stdout",
     "text": [
      "Hello World!\n"
     ]
    }
   ],
   "metadata": {}
  },
  {
   "cell_type": "code",
   "execution_count": 2,
   "source": [
    "##How to declare variables. Unlike some other languages, we don't need to declare what type of variable it's going to be. \n",
    "##We simply need to say what the give the variable a name and give it a value. Now, it doesn't need to be a numerical value. \n",
    "\n",
    "number = 1\n",
    "string = \"Hello\"\n",
    "boolean = True\n",
    "number2 = 1.1"
   ],
   "outputs": [],
   "metadata": {}
  },
  {
   "cell_type": "code",
   "execution_count": 3,
   "source": [
    "#You can also print out all of these values!"
   ],
   "outputs": [],
   "metadata": {}
  },
  {
   "cell_type": "code",
   "execution_count": 4,
   "source": [
    "print(number)\n",
    "print(string)\n",
    "print(boolean)\n",
    "print(number2)"
   ],
   "outputs": [
    {
     "output_type": "stream",
     "name": "stdout",
     "text": [
      "1\n",
      "Hello\n",
      "True\n",
      "1.1\n"
     ]
    }
   ],
   "metadata": {}
  },
  {
   "cell_type": "code",
   "execution_count": 6,
   "source": [
    "#That's cool right! What if we wanted something to happen if a variable is true? \n",
    "\n",
    "#Let's say that the cafeteria is serving pasta today. Let's create a variable yesPasta. \n",
    "\n",
    "yesPasta = True \n",
    "#Let's also create a variable happy. It becomes true if yesPasta is true. \n",
    "\n",
    "happy = False \n",
    "\n",
    "if yesPasta:\n",
    "    happy = True\n",
    "\n"
   ],
   "outputs": [],
   "metadata": {}
  },
  {
   "cell_type": "code",
   "execution_count": 7,
   "source": [
    "#What if we wanted to do something in a loop? Make it happen over and over again for a set period of time \n",
    "\n",
    "#Introduce for loops\n",
    "\n",
    "for i in range(0, 10): #Iterates i 10 times\n",
    "    print(\"Hello World\")"
   ],
   "outputs": [
    {
     "output_type": "stream",
     "name": "stdout",
     "text": [
      "Hello World\n",
      "Hello World\n",
      "Hello World\n",
      "Hello World\n",
      "Hello World\n",
      "Hello World\n",
      "Hello World\n",
      "Hello World\n",
      "Hello World\n",
      "Hello World\n"
     ]
    }
   ],
   "metadata": {}
  },
  {
   "cell_type": "code",
   "execution_count": 8,
   "source": [
    "#It printed Hello World 10 times. Now that we know some basics, let's begin to use PyGame. PyGame is the library that we'll be using to create games within Python. A lot of the stuff that we'll be doing will relate to the PyGame library. "
   ],
   "outputs": [],
   "metadata": {}
  },
  {
   "cell_type": "code",
   "execution_count": null,
   "source": [],
   "outputs": [],
   "metadata": {}
  }
 ],
 "metadata": {
  "orig_nbformat": 4,
  "language_info": {
   "name": "python",
   "version": "3.8.10",
   "mimetype": "text/x-python",
   "codemirror_mode": {
    "name": "ipython",
    "version": 3
   },
   "pygments_lexer": "ipython3",
   "nbconvert_exporter": "python",
   "file_extension": ".py"
  },
  "kernelspec": {
   "name": "python3",
   "display_name": "Python 3.8.10 64-bit ('base': conda)"
  },
  "interpreter": {
   "hash": "20bb7c425fff2d9bb58075980c5d8bf502000da58f8ccecb8f3d341ce1a083eb"
  }
 },
 "nbformat": 4,
 "nbformat_minor": 2
}