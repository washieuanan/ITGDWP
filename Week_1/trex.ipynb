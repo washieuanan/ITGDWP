{
 "cells": [
  {
   "cell_type": "code",
   "execution_count": 1,
   "source": [
    "##Import PYGame"
   ],
   "outputs": [],
   "metadata": {}
  },
  {
   "cell_type": "code",
   "execution_count": 3,
   "source": [
    "import pygame"
   ],
   "outputs": [
    {
     "output_type": "stream",
     "name": "stdout",
     "text": [
      "pygame 2.0.1 (SDL 2.0.14, Python 3.8.10)\n",
      "Hello from the pygame community. https://www.pygame.org/contribute.html\n"
     ]
    }
   ],
   "metadata": {}
  },
  {
   "cell_type": "code",
   "execution_count": 4,
   "source": [
    "#Let's build our code\n",
    "#We will be working in the same cell for right now because we need to run this all at the same time.\n",
    "\n",
    "pygame.init()\n",
    "\n",
    "#Setting the size of the window\n",
    "main_display_width = 1000\n",
    "main_display_height = 500\n",
    "\n",
    "#Display Object\n",
    "gameDisplay = pygame.display.set_mode((main_display_width,main_display_height))\n",
    "pygame.display.set_caption(\"TREX\")\n",
    "\n",
    "#Colors\n",
    "white = (255,255,255)\n",
    "red = (255,0,0)\n",
    "\n",
    "#Ground Line\n",
    "ground_line = pygame.image.load(\"ground_line.png\")\n",
    "ground_line_x = 0\n",
    "ground_line_y = 400\n",
    "\n",
    "#TREX\n",
    "trex = pygame.image.load(\"trex.png\")\n",
    "trex_width = 233\n",
    "trex_height = 216\n",
    "trex_x = 0 \n",
    "trex_y = main_display_height - 250\n",
    "\n",
    "#Clock\n",
    "clock = pygame.time.Clock()\n",
    "\n",
    "#Game Loop\n",
    "alive = True\n",
    "while alive:\n",
    "    for event in pygame.event.get():\n",
    "        if event.type == pygame.QUIT:\n",
    "            alive = False\n",
    "    \n",
    "    \n",
    "    gameDisplay.fill(white)\n",
    "    gameDisplay.blit(ground_line,(ground_line_x,ground_line_y))\n",
    "    gameDisplay.blit(trex,(trex_x,trex_y))\n",
    "    \n",
    "    if trex_x > 1000:\n",
    "        trex_x = 0 - trex_width\n",
    "    else:\n",
    "        trex_x+=1\n",
    "    \n",
    "    pygame.display.update()\n",
    "    clock.tick(60)\n",
    "    \n",
    "    \n",
    "pygame.quit()"
   ],
   "outputs": [
    {
     "output_type": "stream",
     "name": "stdout",
     "text": [
      "NVD3D10: CPU cyclestats are disabled on client virtualization \n",
      "NVD3D10: CPU cyclestats are disabled on client virtualization \n"
     ]
    }
   ],
   "metadata": {}
  },
  {
   "cell_type": "code",
   "execution_count": null,
   "source": [],
   "outputs": [],
   "metadata": {}
  }
 ],
 "metadata": {
  "orig_nbformat": 4,
  "language_info": {
   "name": "python",
   "version": "3.8.10",
   "mimetype": "text/x-python",
   "codemirror_mode": {
    "name": "ipython",
    "version": 3
   },
   "pygments_lexer": "ipython3",
   "nbconvert_exporter": "python",
   "file_extension": ".py"
  },
  "kernelspec": {
   "name": "python3",
   "display_name": "Python 3.8.10 64-bit ('base': conda)"
  },
  "interpreter": {
   "hash": "20bb7c425fff2d9bb58075980c5d8bf502000da58f8ccecb8f3d341ce1a083eb"
  }
 },
 "nbformat": 4,
 "nbformat_minor": 2
}